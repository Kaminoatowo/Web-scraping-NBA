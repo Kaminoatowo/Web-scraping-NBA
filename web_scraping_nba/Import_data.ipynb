{
 "cells": [
  {
   "cell_type": "code",
   "execution_count": 1,
   "id": "6745f81e",
   "metadata": {},
   "outputs": [],
   "source": [
    "years = list(range(1991,2022)) #list of years we want to get data from"
   ]
  },
  {
   "cell_type": "code",
   "execution_count": null,
   "id": "2620bed2",
   "metadata": {},
   "outputs": [],
   "source": [
    "url_start = \"https://www.basketball-reference.com/awards/awards_{}.html\" #url of web pages containing necessary information; \n",
    "#notice the {} brackets: they are needed to use multiple pages with a similar url"
   ]
  },
  {
   "cell_type": "code",
   "execution_count": 2,
   "id": "aebfe1f4",
   "metadata": {},
   "outputs": [],
   "source": [
    "import requests"
   ]
  },
  {
   "cell_type": "code",
   "execution_count": null,
   "id": "572413d5",
   "metadata": {},
   "outputs": [],
   "source": [
    "for year in years:\n",
    "    url=url_start.format(year) #format the url_start such to match the web page related to a particular year\n",
    "    data = requests.get(url)\n",
    "    \n",
    "    # save data from the web page to a html file in the mvp folder for each year\n",
    "    with open(\"mvp/{}.html\".format(year), \"w+\", encoding=\"utf-8\") as f:\n",
    "        f.write(data.text)"
   ]
  },
  {
   "cell_type": "code",
   "execution_count": null,
   "id": "36d5e6b0",
   "metadata": {},
   "outputs": [],
   "source": [
    "player_stats_url = \"https://www.basketball-reference.com/leagues/NBA_{}_per_game.html\"\n",
    "\n",
    "url = player_stats_url.format(1991)\n",
    "data = requests.get(url)\n",
    "with open(\"player/1991.html\", \"w+\", encoding=\"utf8\") as f:\n",
    "    f.write(data.text)"
   ]
  },
  {
   "cell_type": "code",
   "execution_count": null,
   "id": "30a55028",
   "metadata": {},
   "outputs": [],
   "source": [
    "from selenium import webdriver"
   ]
  },
  {
   "cell_type": "code",
   "execution_count": null,
   "id": "af45a31d",
   "metadata": {},
   "outputs": [],
   "source": [
    "driver = webdriver.Chrome(executable_path=\"/Users/sirja/Codes/chromedriver_win32\")"
   ]
  },
  {
   "cell_type": "code",
   "execution_count": null,
   "id": "1fe8241d",
   "metadata": {},
   "outputs": [],
   "source": [
    "# do the same for all of the years\n",
    "for year in years:\n",
    "    url = player_stats_url.format(year)\n",
    "\n",
    "    driver.get(url)\n",
    "    driver.execute_script(\"window.scrollTo(1,10000)\")\n",
    "    time.sleep(2)\n",
    "\n",
    "    html = driver.page_source\n",
    "    with open(\"player/{}.html\".format(year), \"w+\", encoding=\"utf8\") as f:\n",
    "        f.write(html)"
   ]
  },
  {
   "cell_type": "code",
   "execution_count": 3,
   "id": "db5ba573",
   "metadata": {},
   "outputs": [],
   "source": [
    "team_stats_url = \"https://www.basketball-reference.com/leagues/NBA_2021_standings.html\""
   ]
  },
  {
   "cell_type": "code",
   "execution_count": 5,
   "id": "5ac6d82e",
   "metadata": {},
   "outputs": [],
   "source": [
    "for year in [2021]:\n",
    "    url = team_stats_url.format(year)\n",
    "\n",
    "    data = requests.get(url)\n",
    "\n",
    "    with open(\"team/{}.html\".format(year), \"w+\", encoding=\"utf8\") as f:\n",
    "        f.write(data.text)"
   ]
  },
  {
   "cell_type": "code",
   "execution_count": null,
   "id": "6f9138ce",
   "metadata": {},
   "outputs": [],
   "source": []
  },
  {
   "cell_type": "code",
   "execution_count": null,
   "id": "7a7d8d3e",
   "metadata": {},
   "outputs": [],
   "source": []
  }
 ],
 "metadata": {
  "kernelspec": {
   "display_name": "Python 3",
   "language": "python",
   "name": "python3"
  },
  "language_info": {
   "codemirror_mode": {
    "name": "ipython",
    "version": 3
   },
   "file_extension": ".py",
   "mimetype": "text/x-python",
   "name": "python",
   "nbconvert_exporter": "python",
   "pygments_lexer": "ipython3",
   "version": "3.9.2"
  }
 },
 "nbformat": 4,
 "nbformat_minor": 5
}
